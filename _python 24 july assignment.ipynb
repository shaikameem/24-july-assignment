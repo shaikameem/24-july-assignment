{
 "cells": [
  {
   "cell_type": "code",
   "execution_count": 1,
   "id": "891161af",
   "metadata": {},
   "outputs": [],
   "source": [
    "#write a program to display unique vowels present in given words, try with normal code as well as comprehensive\n",
    "# print any star pattern in list comprehensive\n",
    "#print 9th table using list comprehensive\n",
    "#given user input string convert lower case to upper case\n",
    "#write a program to display repeated words with how many times \n"
   ]
  },
  {
   "cell_type": "code",
   "execution_count": 2,
   "id": "ecb4551a",
   "metadata": {},
   "outputs": [],
   "source": [
    "#1"
   ]
  },
  {
   "cell_type": "code",
   "execution_count": 3,
   "id": "7c94a374",
   "metadata": {},
   "outputs": [
    {
     "name": "stdout",
     "output_type": "stream",
     "text": [
      "enter the input:ameem\n",
      "['a', 'e', 'e']\n"
     ]
    }
   ],
   "source": [
    "n=input(\"enter the input:\")\n",
    "l1=[]\n",
    "for i in n:\n",
    "    if i==\"a\" or i==\"e\" or i==\"i\" or i==\"o\" or i==\"u\":\n",
    "        l1.append(i)     \n",
    "print(l1)    \n"
   ]
  },
  {
   "cell_type": "code",
   "execution_count": 4,
   "id": "04910882",
   "metadata": {},
   "outputs": [],
   "source": [
    "#2"
   ]
  },
  {
   "cell_type": "code",
   "execution_count": 5,
   "id": "68e7e6f6",
   "metadata": {},
   "outputs": [
    {
     "name": "stdout",
     "output_type": "stream",
     "text": [
      "['*', '**', '**', '***', '***', '***', '****', '****', '****', '****', '*****', '*****', '*****', '*****', '*****']\n",
      "\n"
     ]
    }
   ],
   "source": [
    "l=[i*\"*\" for i in range(1,6) for j in range(i*1)]\n",
    "print(l)\n",
    "print()"
   ]
  },
  {
   "cell_type": "code",
   "execution_count": 6,
   "id": "7c634c69",
   "metadata": {},
   "outputs": [],
   "source": [
    "#3"
   ]
  },
  {
   "cell_type": "code",
   "execution_count": 7,
   "id": "3562ebe3",
   "metadata": {},
   "outputs": [
    {
     "name": "stdout",
     "output_type": "stream",
     "text": [
      "[9, 18, 27, 36, 45, 54, 63, 72, 81, 90, 99, 108, 117, 126, 135, 144, 153, 162, 171, 180]\n"
     ]
    }
   ],
   "source": [
    "l=[9*i for i in range(1,21)]\n",
    "print(l)"
   ]
  },
  {
   "cell_type": "code",
   "execution_count": 8,
   "id": "441f89d5",
   "metadata": {},
   "outputs": [],
   "source": [
    "#4"
   ]
  },
  {
   "cell_type": "code",
   "execution_count": 9,
   "id": "79f7747d",
   "metadata": {},
   "outputs": [
    {
     "name": "stdout",
     "output_type": "stream",
     "text": [
      "['A', 'M', 'E', 'E', 'M']\n"
     ]
    }
   ],
   "source": [
    "l=[i.upper() for i in \"ameem\"]\n",
    "print(l)"
   ]
  },
  {
   "cell_type": "code",
   "execution_count": 10,
   "id": "29be1166",
   "metadata": {},
   "outputs": [],
   "source": [
    "#5"
   ]
  },
  {
   "cell_type": "code",
   "execution_count": 11,
   "id": "6024bbc6",
   "metadata": {},
   "outputs": [
    {
     "name": "stdout",
     "output_type": "stream",
     "text": [
      "python word repeated 2 times\n",
      "domine word repeated 1 times\n"
     ]
    }
   ],
   "source": [
    "g=\"python domine python\"\n",
    "\n",
    "l=[\"{} word repeated {} times\".format(i,g.count(i)) for i in g.split()]\n",
    "print(\"\\n\".join(set(l)))"
   ]
  },
  {
   "cell_type": "code",
   "execution_count": null,
   "id": "036c6b2e",
   "metadata": {},
   "outputs": [],
   "source": []
  }
 ],
 "metadata": {
  "kernelspec": {
   "display_name": "Python 3 (ipykernel)",
   "language": "python",
   "name": "python3"
  },
  "language_info": {
   "codemirror_mode": {
    "name": "ipython",
    "version": 3
   },
   "file_extension": ".py",
   "mimetype": "text/x-python",
   "name": "python",
   "nbconvert_exporter": "python",
   "pygments_lexer": "ipython3",
   "version": "3.10.9"
  }
 },
 "nbformat": 4,
 "nbformat_minor": 5
}
